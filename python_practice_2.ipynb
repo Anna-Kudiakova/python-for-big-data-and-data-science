{
  "nbformat": 4,
  "nbformat_minor": 0,
  "metadata": {
    "colab": {
      "provenance": []
    },
    "kernelspec": {
      "name": "python3",
      "display_name": "Python 3"
    },
    "language_info": {
      "name": "python"
    }
  },
  "cells": [
    {
      "cell_type": "markdown",
      "source": [
        "# I. Змінні та памʼять."
      ],
      "metadata": {
        "id": "p9wwt0LZzNvn"
      }
    },
    {
      "cell_type": "markdown",
      "source": [
        "1. Створити змінні, що посилаються на два цілих числа, що однакові за значенням, де значення належить проміжку від -5 до 256. Перевірте, чи будуть ці змінні рівні тільки за значенням або ж ще будуть посилатися на один і той самий обʼєкт в памʼяті? Наведіть код та дайте текстову відповідь нижче."
      ],
      "metadata": {
        "id": "HTJrrm95xSV9"
      }
    },
    {
      "cell_type": "code",
      "execution_count": 2,
      "metadata": {
        "id": "TATni2vzayjG",
        "colab": {
          "base_uri": "https://localhost:8080/"
        },
        "outputId": "14fa7373-1991-422a-8a2d-90279b4f3b4f"
      },
      "outputs": [
        {
          "output_type": "stream",
          "name": "stdout",
          "text": [
            "Value equality - True; Reference equality - True\n"
          ]
        }
      ],
      "source": [
        "var1 = 34\n",
        "var2 = 34\n",
        "print(f'Value equality - {var1 == var2}; Memory equality - {id(var1) == id(var2)}')\n",
        "\n"
      ]
    },
    {
      "cell_type": "markdown",
      "source": [
        "2. За допомогою якої функції можна перевірити належність змінної до вказаного типу даних (напр. чи змінна True посилається на значення булевого та цілочисленого типу)?"
      ],
      "metadata": {
        "id": "ISORzt6M3vAt"
      }
    },
    {
      "cell_type": "code",
      "source": [
        "isinstance(True, bool)\n",
        "isinstance([1, 2, 3], list)"
      ],
      "metadata": {
        "id": "9vL9CFaMbfyo",
        "colab": {
          "base_uri": "https://localhost:8080/"
        },
        "outputId": "446d522b-69bc-497b-fde0-58104b7b5c94"
      },
      "execution_count": 4,
      "outputs": [
        {
          "output_type": "execute_result",
          "data": {
            "text/plain": [
              "True"
            ]
          },
          "metadata": {},
          "execution_count": 4
        }
      ]
    },
    {
      "cell_type": "markdown",
      "source": [
        "# II. Цілі числа та числа з рухомою комою"
      ],
      "metadata": {
        "id": "tRxugKAxwYLw"
      }
    },
    {
      "cell_type": "markdown",
      "source": [
        "3. Створити дві змінні, що посилаються на будь-які ціле число та число з рухомою комою та продемонструвати такі арифметичні операції: додавання, віднімання, ділення, множення, ділення без залишку, ділення по модулю, приведення до ступеню. Всі результати операцій вивести на екран."
      ],
      "metadata": {
        "id": "NLHkgd5Gybc8"
      }
    },
    {
      "cell_type": "code",
      "source": [
        "var1 = 5\n",
        "var2 = 3.4\n",
        "sum = var1 + var2\n",
        "substraction = var1 - var2\n",
        "division = var1 / var2\n",
        "multiplication = var1 * var2\n",
        "int_disvision = var1 // var2\n",
        "modulus = var1 % var2\n",
        "exponentiation = var1 ** var2\n",
        "print(f'''\n",
        "var1 = 5, var2 = 3.4\n",
        "var1 + var2 = {sum};\n",
        "var1 / var2 = {division};\n",
        "var1 * var2 = {multiplication};\n",
        "var1 // var2 = {int_disvision};\n",
        "var1 % var2 = {modulus};\n",
        "var1 ** var2 = {exponentiation};\n",
        "''')"
      ],
      "metadata": {
        "id": "nb8u_3pjb2cA",
        "colab": {
          "base_uri": "https://localhost:8080/"
        },
        "outputId": "aa983fff-0768-498e-a746-4865560a1565"
      },
      "execution_count": 62,
      "outputs": [
        {
          "output_type": "stream",
          "name": "stdout",
          "text": [
            "\n",
            "var1 = 5, var2 = 3.4\n",
            "var1 + var2 = 8.4;\n",
            "var1 / var2 = 1.4705882352941178;\n",
            "var1 * var2 = 17.0;\n",
            "var1 // var2 = 1.0;\n",
            "var1 % var2 = 1.6;\n",
            "var1 ** var2 = 237.95674233948478;\n",
            "\n"
          ]
        }
      ]
    },
    {
      "cell_type": "markdown",
      "source": [
        "4. Використовуючи змінні з вправи 3, продемонструйте механізм явного перетворення типів, де числа з рухомою комою перетворюються на цілі числа. Також визначте змінну, що посилається на значення булевого типу і спробуйте явно привести її до цілого числа."
      ],
      "metadata": {
        "id": "1kBClKgPzZnC"
      }
    },
    {
      "cell_type": "code",
      "source": [
        "print(f'var2 before type casting - {var2}')\n",
        "var2 = int(var2)\n",
        "print(f'var2 after type casting - {var2}')\n",
        "bool_true = True\n",
        "print(f'bool_true = {bool_true}')\n",
        "bool_true = int(bool_true)\n",
        "print(f'bool_true after type casting - {bool_true}')"
      ],
      "metadata": {
        "id": "TbqJbkeUcKsD",
        "colab": {
          "base_uri": "https://localhost:8080/"
        },
        "outputId": "2042d636-5302-4434-a566-a24f2376a765"
      },
      "execution_count": 6,
      "outputs": [
        {
          "output_type": "stream",
          "name": "stdout",
          "text": [
            "var2 before type casting - 3.4\n",
            "var2 after type casting - 3\n",
            "bool_true = True\n",
            "bool_true after type casting - 1\n"
          ]
        }
      ]
    },
    {
      "cell_type": "markdown",
      "source": [
        "# IІІ. Рядки (String)."
      ],
      "metadata": {
        "id": "EVJ7AflwxrZi"
      }
    },
    {
      "cell_type": "markdown",
      "source": [
        "5. Створити пустий рядок двома різними способами."
      ],
      "metadata": {
        "id": "_s5ECzz9zE61"
      }
    },
    {
      "cell_type": "code",
      "source": [
        "empty_str = ''\n",
        "empty_str = \"\""
      ],
      "metadata": {
        "id": "fkZJHu9Scvc-"
      },
      "execution_count": null,
      "outputs": []
    },
    {
      "cell_type": "markdown",
      "source": [
        "6. Створити рядок з апострофом. Зробити його сирим. Вивести обидва рядка на екран."
      ],
      "metadata": {
        "id": "4Bdn9J3MzLf_"
      }
    },
    {
      "cell_type": "code",
      "source": [
        "str_apostrophe = \"string with \\'\"\n",
        "print(str_apostrophe)\n",
        "str_raw_apostrophe = r\"string with \\'\"\n",
        "print(str_raw_apostrophe)"
      ],
      "metadata": {
        "id": "ivji_hsmc0GH",
        "colab": {
          "base_uri": "https://localhost:8080/"
        },
        "outputId": "73f82b45-9e05-4c0f-f6aa-6cd3edc4f316"
      },
      "execution_count": 10,
      "outputs": [
        {
          "output_type": "stream",
          "name": "stdout",
          "text": [
            "string with '\n",
            "string with \\'\n"
          ]
        }
      ]
    },
    {
      "cell_type": "markdown",
      "source": [
        "7. Створити змінну, що буде посилатися на Ваше прізвище латинкою. Створити форматований рядок, який буде мати вигляд \"My surname is ______\", де на місці нижніх підкреслень буде Ваше прізвище зі змінної."
      ],
      "metadata": {
        "id": "bg_d8wM4z8dS"
      }
    },
    {
      "cell_type": "code",
      "source": [
        "my_surname = 'Kudiakova'\n",
        "formatted_string = f'My surname is {my_surname}'\n",
        "formatted_string"
      ],
      "metadata": {
        "id": "kuxFgpWndACq",
        "colab": {
          "base_uri": "https://localhost:8080/",
          "height": 35
        },
        "outputId": "289c4d3f-eede-4783-83c1-665271befadd"
      },
      "execution_count": 12,
      "outputs": [
        {
          "output_type": "execute_result",
          "data": {
            "text/plain": [
              "'My surname is Kudiakova'"
            ],
            "application/vnd.google.colaboratory.intrinsic+json": {
              "type": "string"
            }
          },
          "metadata": {},
          "execution_count": 12
        }
      ]
    },
    {
      "cell_type": "markdown",
      "source": [
        "8. Маючи рядок \"My dog is crazy.\" перетворити його на список [\"my\", \"dog\", \"is\", \"crazy\"]"
      ],
      "metadata": {
        "id": "1Nc6RqvQ0hxU"
      }
    },
    {
      "cell_type": "code",
      "source": [
        "dog_str = 'My dog is crazy'\n",
        "words_array = dog_str.lower().split()\n",
        "words_array"
      ],
      "metadata": {
        "id": "w1Ya4RqedUhw",
        "colab": {
          "base_uri": "https://localhost:8080/"
        },
        "outputId": "dcd4f479-28e9-4f4a-962f-be43701ac1c6"
      },
      "execution_count": 22,
      "outputs": [
        {
          "output_type": "execute_result",
          "data": {
            "text/plain": [
              "['my', 'dog', 'is', 'crazy']"
            ]
          },
          "metadata": {},
          "execution_count": 22
        }
      ]
    },
    {
      "cell_type": "markdown",
      "source": [
        "# IV. Робота зі списками."
      ],
      "metadata": {
        "id": "GYVqN9uP1D4n"
      }
    },
    {
      "cell_type": "markdown",
      "source": [
        "9. Створити список двома різними за синтаксисом способами. За допомогою вбудованої функції обчисліть довжину одного з них."
      ],
      "metadata": {
        "id": "7-DeDunw2sO-"
      }
    },
    {
      "cell_type": "code",
      "source": [
        "list1 = [1,2,3,4]\n",
        "list2 = list((1,2,3,4))\n",
        "list2_length = len(list2)\n",
        "list2_length"
      ],
      "metadata": {
        "id": "zxg06Uuxdyoh",
        "colab": {
          "base_uri": "https://localhost:8080/"
        },
        "outputId": "92e5b665-97ad-4d33-cd89-59c10072c45f"
      },
      "execution_count": 28,
      "outputs": [
        {
          "output_type": "execute_result",
          "data": {
            "text/plain": [
              "4"
            ]
          },
          "metadata": {},
          "execution_count": 28
        }
      ]
    },
    {
      "cell_type": "markdown",
      "source": [
        "10. Створіть два списка та за допомогою спеціального методу додайте другий з них в якості останнього елемента першого."
      ],
      "metadata": {
        "id": "8vmGUTjL22gI"
      }
    },
    {
      "cell_type": "code",
      "source": [
        "list1 = [1,2,3,4]\n",
        "list2 = [3,4,5,6]\n",
        "list1.extend(list2)\n",
        "list1"
      ],
      "metadata": {
        "id": "uHtjWYw7d7hm",
        "colab": {
          "base_uri": "https://localhost:8080/"
        },
        "outputId": "4345204b-cb95-4234-c68f-d6e3abf48927"
      },
      "execution_count": 29,
      "outputs": [
        {
          "output_type": "execute_result",
          "data": {
            "text/plain": [
              "[1, 2, 3, 4, 3, 4, 5, 6]"
            ]
          },
          "metadata": {},
          "execution_count": 29
        }
      ]
    },
    {
      "cell_type": "markdown",
      "source": [
        "11. Створіть список, де елементами цього списку також є списки. Отримай перший елемент з останнього рядка та виведи значення на екран."
      ],
      "metadata": {
        "id": "JC3BkD-67_--"
      }
    },
    {
      "cell_type": "code",
      "source": [
        "list = [[1, 2], [3, 4], [5, 6]]\n",
        "el = list[len(list) - 1][0]\n",
        "el"
      ],
      "metadata": {
        "id": "Kz2jZHsGeLlz",
        "colab": {
          "base_uri": "https://localhost:8080/"
        },
        "outputId": "3dccf067-7ca3-41d5-9d73-20599cc2acc2"
      },
      "execution_count": 32,
      "outputs": [
        {
          "output_type": "execute_result",
          "data": {
            "text/plain": [
              "5"
            ]
          },
          "metadata": {},
          "execution_count": 32
        }
      ]
    },
    {
      "cell_type": "markdown",
      "source": [
        "12. Створіть список з десяти елементів різного типу. Отримайте всі елементи, окрім двох перших та двох останніх та збережіть їх в новій змінній."
      ],
      "metadata": {
        "id": "JA47PKTv8zFK"
      }
    },
    {
      "cell_type": "code",
      "source": [
        "multitype_list = ['Anna', 1, True, set((1, 2, 1)), 6.5, [1, 2], (1,2,3), {1: 'a', 2: 'b', 3: 'c'}, 'Great!!', 6789]\n",
        "sliced_list = multitype_list[2:-2]\n",
        "sliced_list"
      ],
      "metadata": {
        "id": "_rHdUR-ueP4-",
        "colab": {
          "base_uri": "https://localhost:8080/"
        },
        "outputId": "e743bf47-ae70-4570-9020-962d9c33681d"
      },
      "execution_count": 34,
      "outputs": [
        {
          "output_type": "execute_result",
          "data": {
            "text/plain": [
              "[True, {1, 2}, 6.5, [1, 2], (1, 2, 3), {1: 'a', 2: 'b', 3: 'c'}]"
            ]
          },
          "metadata": {},
          "execution_count": 34
        }
      ]
    },
    {
      "cell_type": "markdown",
      "source": [
        "# V. Робота з кортежами."
      ],
      "metadata": {
        "id": "pCjR1dJb1Qbi"
      }
    },
    {
      "cell_type": "markdown",
      "source": [
        "14. Створити кортеж з один елементом."
      ],
      "metadata": {
        "id": "fAZCxAX06R_k"
      }
    },
    {
      "cell_type": "code",
      "source": [
        "single_element_tuple = (1,)\n",
        "isinstance(single_element_tuple, tuple)"
      ],
      "metadata": {
        "id": "H7d82WkQev3e",
        "colab": {
          "base_uri": "https://localhost:8080/"
        },
        "outputId": "057822a5-8a37-4d09-dff5-cd770046679c"
      },
      "execution_count": 36,
      "outputs": [
        {
          "output_type": "execute_result",
          "data": {
            "text/plain": [
              "False"
            ]
          },
          "metadata": {},
          "execution_count": 36
        }
      ]
    },
    {
      "cell_type": "markdown",
      "source": [
        "15. Порівняйте список та кортеж. Назвіть схожості та відмінності, випадки використання."
      ],
      "metadata": {
        "id": "8LCtYcmI6w1M"
      }
    },
    {
      "cell_type": "markdown",
      "source": [
        "**1. Змінність (Mutability):** <br>\n",
        "Списки є змінними (mutable), що означає, що ви можете змінювати їх вміст після створення. Можна додавати, видаляти або змінювати елементи списку.\n",
        "<br>Кортежі є незмінними (immutable), тобто після їх створення не можна змінювати їх вміст. Це робить кортежі більш безпечними для використання як ключі в словниках (dictionaries) та елементи множин (sets).\n",
        "\n",
        "**2. Синтаксис:** <br>\n",
        "Списки створюються за допомогою квадратних дужок [], наприклад: my_list = [1, 2, 3].<br>\n",
        "Кортежі створюються за допомогою круглих дужок (), наприклад: my_tuple = (1, 2, 3). Однак круглі дужки можна опускати, якщо це не викликає неоднозначності.\n",
        "\n",
        "**3. Розмір у пам'яті:**<br>\n",
        "Оскільки кортежі є незмінними, вони займають менше місця у пам'яті порівняно зі списками, які потребують додаткового простору для підтримки потенційних змін вмісту.\n",
        "\n",
        "**4. Час доступу:**\n",
        "Через менший розмір у пам'яті та оптимізації, доступ до елементів кортежу може бути швидшим, ніж до елементів списку, особливо для великих колекцій.\n",
        "\n",
        "**Випадки використання**<br>\n",
        "\n",
        "**Списки**\n",
        "- коли потрібно зберігати колекцію елементів, яка може змінюватися в процесі виконання програми.\n",
        "-якщо потрібно виконувати багато операцій, які змінюють колекцію (додавання, видалення, сортування елементів)\n",
        "- списки дозволяють використовувати розширені методи та функції для обробки даних, такі як зрізи (slicing), додавання (concatenation), множення (multiplication) та інші. Це робить їх зручними для роботи з послідовностями даних, які потребують гнучкого доступу та маніпуляцій.\n",
        "\n",
        "**Кортежі**\n",
        "- коли потрібно зберігати колекцію даних, яка не повинна змінюватися після створення. Наприклад, зберігання конфігураційних налаштувань.\n",
        "Використання як ключів у словниках:\n",
        "- можуть використовуватися як ключі в словниках (dictionaries). Це корисно, коли потрібно створити складний ключ, який складається з декількох частин.\n",
        "- для повернення декількох значень з функції\n",
        "- для зберігання записів з бази даних, де кожен елемент кортежу відповідає певному полю запису. Це забезпечує незмінність даних та зручний доступ до полів запису."
      ],
      "metadata": {
        "id": "fUsN1Hnue0C6"
      }
    },
    {
      "cell_type": "markdown",
      "source": [
        "16. Створіть кортеж з 11ти елементів чисел з рухомою комою та отримайте кожен парний за індексом елемент в зворотньому порядку. Наприклад, маючи (1.2, 2.3, 3.3, 4.3, 5.3, 6.3, 7.3, 8.3, 9.3, 0.3), отримати (0.3, 8.3, 6.3, 4.3, 2.3). Результат збережіть в нову змінну та виведіть на екран."
      ],
      "metadata": {
        "id": "m0xrwFijAmDD"
      }
    },
    {
      "cell_type": "code",
      "source": [
        "eleven_tuple = (1.2, 2.3, 3.3, 4.3, 5.3, 6.3, 7.3, 8.3, 9.3, 0.3)\n",
        "new_tuple = eleven_tuple[::-2]\n",
        "new_tuple"
      ],
      "metadata": {
        "id": "p-5DAH6XfAGA",
        "colab": {
          "base_uri": "https://localhost:8080/"
        },
        "outputId": "183c9fd0-6e8b-47b7-f070-9bdc4b3a520a"
      },
      "execution_count": 43,
      "outputs": [
        {
          "output_type": "execute_result",
          "data": {
            "text/plain": [
              "(0.3, 8.3, 6.3, 4.3, 2.3)"
            ]
          },
          "metadata": {},
          "execution_count": 43
        }
      ]
    },
    {
      "cell_type": "markdown",
      "source": [
        "# VI. Множини (Set)."
      ],
      "metadata": {
        "id": "rW_I9dt3x6cW"
      }
    },
    {
      "cell_type": "markdown",
      "source": [
        "17. Створити множину без елементів. Після цого за допомогою методу додайте кілька різних елементів до множини. Чи множини є змінним типом даних?"
      ],
      "metadata": {
        "id": "zNjRLHLw1Bgg"
      }
    },
    {
      "cell_type": "code",
      "source": [
        "empty_set = set()\n",
        "empty_set.add(1)\n",
        "empty_set.add('2')\n",
        "empty_set.add(1)\n",
        "empty_set"
      ],
      "metadata": {
        "id": "KOv7zc2Kfo4N",
        "colab": {
          "base_uri": "https://localhost:8080/"
        },
        "outputId": "437c45dc-4caa-490c-d9ec-7400015f4a0b"
      },
      "execution_count": 44,
      "outputs": [
        {
          "output_type": "execute_result",
          "data": {
            "text/plain": [
              "{1, '2'}"
            ]
          },
          "metadata": {},
          "execution_count": 44
        }
      ]
    },
    {
      "cell_type": "markdown",
      "source": [
        "Множини в Python є змінним типом даних. Тобто можна додавати, видаляти та змінювати елементи множини після її створення.\n",
        "\n",
        "\n",
        "\n",
        "\n",
        "\n"
      ],
      "metadata": {
        "id": "vxS6dVYiftZQ"
      }
    },
    {
      "cell_type": "markdown",
      "source": [
        "18. Створити множину, маючи список my_list = [1, 1, 2, 67, 67, 8, 9]. Пояснити, чому \"зникли\" деякі елементи."
      ],
      "metadata": {
        "id": "gHpT0Zw_1HEF"
      }
    },
    {
      "cell_type": "code",
      "source": [
        "list_set = set([1, 1, 2, 67, 67, 8, 9])\n",
        "list_set"
      ],
      "metadata": {
        "id": "qCN4uvJ_fxmu",
        "colab": {
          "base_uri": "https://localhost:8080/"
        },
        "outputId": "c719eb7d-9df5-44f3-80db-c8630098a857"
      },
      "execution_count": 45,
      "outputs": [
        {
          "output_type": "execute_result",
          "data": {
            "text/plain": [
              "{1, 2, 8, 9, 67}"
            ]
          },
          "metadata": {},
          "execution_count": 45
        }
      ]
    },
    {
      "cell_type": "markdown",
      "source": [
        "Множина в Python є неупорядкованою колекцією, яка не допускає дублікатів. Коли  список конвертується в множину за допомогою функції set(), Python автоматично видаляє всі дублікати, залишаючи лише унікальні елементи."
      ],
      "metadata": {
        "id": "tFNc1e20fyny"
      }
    },
    {
      "cell_type": "markdown",
      "source": [
        "19. Створіть дві множини. Продемонстуйте над ними операції: обʼєднання, різниці, пересічі та симетричної різниці. Використовуйте методи, що не змінюють множини, а створюють нові."
      ],
      "metadata": {
        "id": "SRMkGizS1UwY"
      }
    },
    {
      "cell_type": "code",
      "source": [
        "set1 = set((1,2,3))\n",
        "set2 = set((2,3,4))\n",
        "union = set1.union(set2)\n",
        "difference = set1.difference(set2)\n",
        "intersection = set1.intersection(set2)\n",
        "symmetric_dif = set1.symmetric_difference(set2)\n",
        "print(f'Union - {union}; Difference set1 - {difference}; Intersection - {intersection}; Symmetric difference - {symmetric_dif}')\n"
      ],
      "metadata": {
        "id": "h0T-VuDnf3Ri",
        "colab": {
          "base_uri": "https://localhost:8080/"
        },
        "outputId": "a41cda3a-bbd0-4e3b-b935-33f0dc691d09"
      },
      "execution_count": 49,
      "outputs": [
        {
          "output_type": "stream",
          "name": "stdout",
          "text": [
            "Union - {1, 2, 3, 4}; Difference set1 - {1}; Intersection - {2, 3}; Symmetric difference - {1, 4}\n"
          ]
        }
      ]
    },
    {
      "cell_type": "markdown",
      "source": [
        "# VII. Словники (Dictionary)."
      ],
      "metadata": {
        "id": "kWc8gkzTx7Ea"
      }
    },
    {
      "cell_type": "markdown",
      "source": [
        "20. Створіть пустий словник. До нього додайте чотири пари елементів такі, щоб їхні ключі були різних типів. Чи може список бути ключем? Чому?"
      ],
      "metadata": {
        "id": "i5FLwj-B2ybQ"
      }
    },
    {
      "cell_type": "code",
      "source": [
        "dict = {}\n",
        "dict[24] = 'a'\n",
        "dict['abs'] = 'b'\n",
        "dict[(1,2)] = 34\n",
        "dict[False] = True\n",
        "dict\n"
      ],
      "metadata": {
        "id": "hxgv3BzrgLAV",
        "colab": {
          "base_uri": "https://localhost:8080/"
        },
        "outputId": "92297e84-c1bf-4065-f57c-6fce955508c4"
      },
      "execution_count": 53,
      "outputs": [
        {
          "output_type": "execute_result",
          "data": {
            "text/plain": [
              "{24: 'a', 'abs': 'b', (1, 2): 34, False: True}"
            ]
          },
          "metadata": {},
          "execution_count": 53
        }
      ]
    },
    {
      "cell_type": "markdown",
      "source": [
        "Ні, список не може бути ключем в словнику в Python. Це пов'язано з тим, що ключі в словнику повинні бути незмінними (immutable) типами даних, такими як рядки, числа, кортежі. У словниках використовується хешування для швидкого пошуку ключів. Якщо ключі були б змінними, то їх хеш-значення могло б змінюватися, що порушило б цілісність словника та призвело б до некоректної роботи."
      ],
      "metadata": {
        "id": "zwa7UVN-gR3m"
      }
    },
    {
      "cell_type": "markdown",
      "source": [
        "21. Створіть словник, де значенням в одній з пар теж буде словник, який теж має вкладений словник. Виведіть на екран значення, що міститься в словнику, що знаходиться на найнижчому рівні ієрархії вкладеності (найбільш внутрішній)."
      ],
      "metadata": {
        "id": "WM_pMlJsgoNf"
      }
    },
    {
      "cell_type": "code",
      "source": [
        "child_dict = {1: 'a', 2: 'b'}\n",
        "parent_dict = {1: child_dict, 2: 'c'}\n",
        "granny_dict = {1: parent_dict, 2: 'd'}\n",
        "res = granny_dict.get(1).get(1)\n",
        "res"
      ],
      "metadata": {
        "id": "60dlP7IHhAy4",
        "colab": {
          "base_uri": "https://localhost:8080/"
        },
        "outputId": "217e82a8-2854-40ea-c271-c0bef4ad6abb"
      },
      "execution_count": 54,
      "outputs": [
        {
          "output_type": "execute_result",
          "data": {
            "text/plain": [
              "{1: 'a', 2: 'b'}"
            ]
          },
          "metadata": {},
          "execution_count": 54
        }
      ]
    },
    {
      "cell_type": "markdown",
      "source": [
        "# Вітаю! Ви велика(ий) молодець, що впоралась(вся). Похваліть себе та побалуйте чимось приємним. Я Вами пишаюся."
      ],
      "metadata": {
        "id": "xOZP0hkx6cCr"
      }
    }
  ]
}