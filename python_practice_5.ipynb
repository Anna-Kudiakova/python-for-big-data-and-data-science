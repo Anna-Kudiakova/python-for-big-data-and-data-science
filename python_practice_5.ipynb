{
  "nbformat": 4,
  "nbformat_minor": 0,
  "metadata": {
    "colab": {
      "provenance": []
    },
    "kernelspec": {
      "name": "python3",
      "display_name": "Python 3"
    },
    "language_info": {
      "name": "python"
    }
  },
  "cells": [
    {
      "cell_type": "markdown",
      "source": [
        "# I. OOP"
      ],
      "metadata": {
        "id": "5qV_sehzFCTp"
      }
    },
    {
      "cell_type": "markdown",
      "source": [
        "1. (6б). Створіть клас Animal, додайте три атрибути, один з яких має значення за замовчуванням та два методи на свій розсуд."
      ],
      "metadata": {
        "id": "tx_U_hOALyfg"
      }
    },
    {
      "cell_type": "code",
      "source": [
        "class Animal:\n",
        "    def __init__(self, name, species, age=5):\n",
        "        self.name = name\n",
        "        self.species = species\n",
        "        self.age = age\n",
        "\n",
        "    def make_sound(self):\n",
        "        print(f\"{self.name} makes a sound.\")\n",
        "\n",
        "    def describe(self):\n",
        "        print(f\"{self.name} is a {self.age}-year-old {self.species}.\")"
      ],
      "metadata": {
        "id": "-Vf895KaL88N"
      },
      "execution_count": 2,
      "outputs": []
    },
    {
      "cell_type": "markdown",
      "source": [
        "2. (2б). Створіть два обʼєкти цього класу, де один з обʼєктів створюється із дефолтним значенням атрибуту. На одному обʼєкті отримайте значення його атрибуту, а на іншому викличте один з його методів."
      ],
      "metadata": {
        "id": "X_UlOMB0L93w"
      }
    },
    {
      "cell_type": "code",
      "source": [
        "dog = Animal(\"Carry\", \"Dog\")\n",
        "cat = Animal(\"Lincoln\", \"Cat\", 3)\n",
        "print(dog.age)\n",
        "cat.make_sound()"
      ],
      "metadata": {
        "id": "7gBu0ESOMCpG",
        "colab": {
          "base_uri": "https://localhost:8080/"
        },
        "outputId": "7289d8b4-ef15-4dd3-8fea-c723a0204320"
      },
      "execution_count": 3,
      "outputs": [
        {
          "output_type": "stream",
          "name": "stdout",
          "text": [
            "5\n",
            "Lincoln makes a sound.\n"
          ]
        }
      ]
    },
    {
      "cell_type": "markdown",
      "source": [
        "3. (5б). Створіть клас, де атрибути мають різні рівні доступу. Спробуйте отримати їхні значення та опишіть результати."
      ],
      "metadata": {
        "id": "HoqSCZt1MHn5"
      }
    },
    {
      "cell_type": "code",
      "source": [
        "class MyClass:\n",
        "    def __init__(self):\n",
        "        self.public_attr = \"Public\"\n",
        "        self._protected_attr = \"Protected\"\n",
        "        self.__private_attr = \"Private\"\n",
        "\n",
        "obj = MyClass()\n",
        "print(obj.public_attr)  # Accessible\n",
        "print(obj._protected_attr)  # Accessible\n",
        "# print(obj.__private_attr)  # AttributeError: 'MyClass' object has no attribute '__private_attr'\n"
      ],
      "metadata": {
        "id": "r9b3vJxBMSPV",
        "colab": {
          "base_uri": "https://localhost:8080/"
        },
        "outputId": "e30014a8-30a3-40f6-ea22-d074dc0c73c5"
      },
      "execution_count": 8,
      "outputs": [
        {
          "output_type": "stream",
          "name": "stdout",
          "text": [
            "Public\n",
            "Protected\n"
          ]
        }
      ]
    },
    {
      "cell_type": "markdown",
      "source": [
        "- Публічний атрибут (public_attribute)\n",
        "доступний для читання та зміни з будь-якого місця у коді.\n",
        "- Захищений атрибут (_protected_attribute) також доступний ззовні класу, але за звичайними умовами вважається, що до нього мають доступ тільки клас та його підкласи.\n",
        "- Приватний атрибут (__private_attribute) не доступний безпосередньо ззовні класу. Доступ до нього можна отримати лише через спеціальну нотацію імені (name mangling), що ускладнює його випадкове використання ззовні класу."
      ],
      "metadata": {
        "id": "wNgnEjMPKJCQ"
      }
    },
    {
      "cell_type": "markdown",
      "source": [
        "4. (7б). Як ви розумієте термін self? Для чого використовується метод __init __?"
      ],
      "metadata": {
        "id": "5op2m2vgMSkZ"
      }
    },
    {
      "cell_type": "markdown",
      "source": [
        "**self** це посилання на поточний екземпляр класу, яке використовується для доступу до змінних та методів, пов'язаних з поточним об'єктом.\n",
        "\n",
        "__init__ це спеціальний метод, який називається конструктором, і використовується для ініціалізації змінних екземпляра нового об'єкта."
      ],
      "metadata": {
        "id": "DyiPqNRvMasx"
      }
    },
    {
      "cell_type": "markdown",
      "source": [
        "5. (9б). Створіть клас Фігура без атрибутів, з методом get_area для отримання площі фігури, що повертає 0 та __add __, який приймає self та other в якості аргументів, а повертає суму площин фігур self та other."
      ],
      "metadata": {
        "id": "-6X8EGfjMd2y"
      }
    },
    {
      "cell_type": "code",
      "source": [
        "class Figure:\n",
        "    def get_area(self):\n",
        "        return 0\n",
        "\n",
        "    def __add__(self, other):\n",
        "        return self.get_area() + other.get_area()"
      ],
      "metadata": {
        "id": "4rvO_wYUMaEr"
      },
      "execution_count": 5,
      "outputs": []
    },
    {
      "cell_type": "markdown",
      "source": [
        "6. (11б). Створіть 2 дочірніх класи від Фігури: Трикутник та Коло, які мають атрибути, необхідні для розрахунку площин. Визначте метод get_area в кожному з них так, щоби вони розраховували площу в залежності від формули для кожного типу фігури. Створіть обʼєкт класу Трикутник та обʼєкт класу Коло. Виконайте операцію суми за допомогою оператора + між ними."
      ],
      "metadata": {
        "id": "SFcKnnv5Mo_z"
      }
    },
    {
      "cell_type": "code",
      "source": [
        "import math\n",
        "\n",
        "class Triangle(Figure):\n",
        "    def __init__(self, base, height):\n",
        "        self.base = base\n",
        "        self.height = height\n",
        "\n",
        "    def get_area(self):\n",
        "        return 0.5 * self.base * self.height\n",
        "\n",
        "class Circle(Figure):\n",
        "    def __init__(self, radius):\n",
        "        self.radius = radius\n",
        "\n",
        "    def get_area(self):\n",
        "        return math.pi * self.radius ** 2\n",
        "\n",
        "triangle = Triangle(3, 4)\n",
        "circle = Circle(5)\n",
        "print(triangle + circle)\n"
      ],
      "metadata": {
        "id": "H3GVNr69Muf3",
        "colab": {
          "base_uri": "https://localhost:8080/"
        },
        "outputId": "571a2b55-228a-4bab-801f-0144ff7eae14"
      },
      "execution_count": 6,
      "outputs": [
        {
          "output_type": "stream",
          "name": "stdout",
          "text": [
            "84.53981633974483\n"
          ]
        }
      ]
    },
    {
      "cell_type": "markdown",
      "source": [
        "7. (3б). Продемонструйте різницю між isinstance та issubclass."
      ],
      "metadata": {
        "id": "HCvR206YMvLK"
      }
    },
    {
      "cell_type": "code",
      "source": [
        "class Parent:\n",
        "    pass\n",
        "\n",
        "class Child(Parent):\n",
        "    pass\n",
        "\n",
        "obj = Child()\n",
        "\n",
        "print(isinstance(obj, Child))\n",
        "print(isinstance(obj, Parent))\n",
        "print(issubclass(Child, Parent))\n",
        "print(issubclass(Parent, Child))"
      ],
      "metadata": {
        "id": "L_V1bBvDM0GN",
        "colab": {
          "base_uri": "https://localhost:8080/"
        },
        "outputId": "35272567-7598-4a0f-9ab5-968b743f9622"
      },
      "execution_count": 13,
      "outputs": [
        {
          "output_type": "stream",
          "name": "stdout",
          "text": [
            "True\n",
            "True\n",
            "True\n",
            "False\n"
          ]
        }
      ]
    },
    {
      "cell_type": "markdown",
      "source": [
        "8. (13б). Створіть клас BankAccount з приватними атрибутами balance та account_number. Реалізуйте методи поповнення та зняття коштів, забезпечивши належну інкапсуляцію. Підказка: використовуйте декоратори property та setter."
      ],
      "metadata": {
        "id": "jjsaBZ-iM0Qq"
      }
    },
    {
      "cell_type": "code",
      "source": [
        "class BankAccount:\n",
        "    def __init__(self, balance, account_number):\n",
        "        self.__balance = balance\n",
        "        self.__account_number = account_number\n",
        "\n",
        "    @property\n",
        "    def balance(self):\n",
        "        return self.__balance\n",
        "\n",
        "    @balance.setter\n",
        "    def balance(self, amount):\n",
        "        if amount >= 0:\n",
        "            self.__balance = amount\n",
        "        else:\n",
        "            raise ValueError(\"Balance cannot be negative!\")\n",
        "\n",
        "    def deposit(self, amount):\n",
        "        if amount > 0:\n",
        "            self.__balance += amount\n",
        "        else:\n",
        "            raise ValueError(\"Deposit amount must be positive!\")\n",
        "\n",
        "    def withdraw(self, amount):\n",
        "        if 0 < amount <= self.__balance:\n",
        "            self.__balance -= amount\n",
        "        else:\n",
        "            raise ValueError(\"Invalid withdrawal amount!\")\n"
      ],
      "metadata": {
        "id": "xCvZ7lh8M7YA"
      },
      "execution_count": 20,
      "outputs": []
    },
    {
      "cell_type": "markdown",
      "source": [
        "9. (11б). Створіть клас Library, який містить список об'єктів типу Book. Реалізуйте методи для додавання книги, видалення книги та відображення списку книг."
      ],
      "metadata": {
        "id": "tIzL2SJTM8ft"
      }
    },
    {
      "cell_type": "code",
      "source": [
        "class Book:\n",
        "    def __init__(self, title, author):\n",
        "        self.title = title\n",
        "        self.author = author\n",
        "\n",
        "    def __repr__(self):\n",
        "        return f\"'{self.title}' by {self.author}\"\n",
        "\n",
        "class Library:\n",
        "    def __init__(self, books=None):\n",
        "        if books is None:\n",
        "            self.books = []\n",
        "        else:\n",
        "            self.books = books\n",
        "\n",
        "    def add_book(self, book):\n",
        "        self.books.append(book)\n",
        "\n",
        "    def remove_book(self, book):\n",
        "        self.books.remove(book)\n",
        "\n",
        "    def display_books(self):\n",
        "        print(self.books)\n",
        "\n",
        "library = Library([Book(\"Love Notes\", \"Maria Lerty\"), Book(\"Harry Potter\", \"J. K. Rowling\")])\n",
        "library.display_books()"
      ],
      "metadata": {
        "id": "HWxfJKLtNAUZ",
        "colab": {
          "base_uri": "https://localhost:8080/"
        },
        "outputId": "c27a7be0-f108-42e4-ff8d-b969ccf85e08"
      },
      "execution_count": 14,
      "outputs": [
        {
          "output_type": "stream",
          "name": "stdout",
          "text": [
            "['Love Notes' by Maria Lerty, 'Harry Potter' by J. K. Rowling]\n"
          ]
        }
      ]
    },
    {
      "cell_type": "markdown",
      "source": [
        "10. (13б). Створіть клас Person з атрибутами name та age. Створіть ще один клас Employee з такими атрибутами, як department та salary. Створіть клас Manager, який успадковує обидва класи Person та Employee. Продемонструйте використання множинної спадковості, створивши обʼєкт класу Manager та отримавши mro для цього класу."
      ],
      "metadata": {
        "id": "lmV8pAwwNIqu"
      }
    },
    {
      "cell_type": "code",
      "source": [
        "class Person:\n",
        "    def __init__(self, name, age):\n",
        "        self.name = name\n",
        "        self.age = age\n",
        "\n",
        "class Employee:\n",
        "    def __init__(self, department, salary):\n",
        "        self.department = department\n",
        "        self.salary = salary\n",
        "\n",
        "class Manager(Person, Employee):\n",
        "    def __init__(self, name, age, department, salary):\n",
        "        Person.__init__(self, name, age)\n",
        "        Employee.__init__(self, department, salary)\n",
        "\n",
        "manager = Manager(\"John Doe\", 40, \"Engineering\", 100000)\n",
        "print(Manager.__mro__)"
      ],
      "metadata": {
        "id": "R49grKlWNPeN",
        "colab": {
          "base_uri": "https://localhost:8080/"
        },
        "outputId": "7e0412fb-1f3a-4f6d-eba1-61356cd75c16"
      },
      "execution_count": 12,
      "outputs": [
        {
          "output_type": "stream",
          "name": "stdout",
          "text": [
            "(<class '__main__.Manager'>, <class '__main__.Person'>, <class '__main__.Employee'>, <class 'object'>)\n"
          ]
        }
      ]
    },
    {
      "cell_type": "markdown",
      "source": [
        "# II. Iterator"
      ],
      "metadata": {
        "id": "dIJyUiNBFG8G"
      }
    },
    {
      "cell_type": "markdown",
      "source": [
        "11. (4б). Визначте рядок(str) з 4ма різними за значенням символами. Створіть ітератор на основі цього рядка. Викличте 5 разів функцію next на ітераторі, 4ри перших з них огорніть у ф-цію print()."
      ],
      "metadata": {
        "id": "13vsm0NyKIzL"
      }
    },
    {
      "cell_type": "code",
      "source": [
        "s = \"abcd\"\n",
        "it = iter(s)\n",
        "print(next(it))  # a\n",
        "print(next(it))  # b\n",
        "print(next(it))  # c\n",
        "print(next(it))  # d\n",
        "# next(it)  # Raises StopIteration"
      ],
      "metadata": {
        "id": "81ntabAkKuz-",
        "colab": {
          "base_uri": "https://localhost:8080/"
        },
        "outputId": "cd10237d-18c9-47b8-8872-66e4a5995340"
      },
      "execution_count": 15,
      "outputs": [
        {
          "output_type": "stream",
          "name": "stdout",
          "text": [
            "a\n",
            "b\n",
            "c\n",
            "d\n"
          ]
        }
      ]
    },
    {
      "cell_type": "markdown",
      "source": [
        "А що якщо викликати цю ж функцію на рядку?"
      ],
      "metadata": {
        "id": "aekWHGXOLRsO"
      }
    },
    {
      "cell_type": "code",
      "source": [
        "#next(s)  # Raises TypeError: 'str' object is not an iterator\n"
      ],
      "metadata": {
        "id": "mxATGsErLV1i",
        "colab": {
          "base_uri": "https://localhost:8080/",
          "height": 141
        },
        "outputId": "cbb37646-f5e3-45f8-9257-a5291c202a8f"
      },
      "execution_count": 19,
      "outputs": [
        {
          "output_type": "error",
          "ename": "TypeError",
          "evalue": "'str' object is not an iterator",
          "traceback": [
            "\u001b[0;31m---------------------------------------------------------------------------\u001b[0m",
            "\u001b[0;31mTypeError\u001b[0m                                 Traceback (most recent call last)",
            "\u001b[0;32m<ipython-input-19-effce74062d9>\u001b[0m in \u001b[0;36m<cell line: 1>\u001b[0;34m()\u001b[0m\n\u001b[0;32m----> 1\u001b[0;31m \u001b[0mnext\u001b[0m\u001b[0;34m(\u001b[0m\u001b[0ms\u001b[0m\u001b[0;34m)\u001b[0m  \u001b[0;31m# Raises TypeError: 'str' object is not an iterator\u001b[0m\u001b[0;34m\u001b[0m\u001b[0;34m\u001b[0m\u001b[0m\n\u001b[0m",
            "\u001b[0;31mTypeError\u001b[0m: 'str' object is not an iterator"
          ]
        }
      ]
    },
    {
      "cell_type": "markdown",
      "source": [
        " 12. (5б). Опишіть своїми словами в одному реченні, як ви розумієте різницю між ітерабельними обʼєктами та ітераторами (можна на прикладі)."
      ],
      "metadata": {
        "id": "XwtMEopwJ4pH"
      }
    },
    {
      "cell_type": "markdown",
      "source": [
        "Ітерабельні об'єкти - це ті, які можуть повертати ітератори за допомогою функції iter(), що дозволяє пройтися по елементам об'єкта в циклі. Ітератори - це об'єкти, що реалізують методи __iter__() та __next__(), дозволяючи отримувати наступний елемент при кожному виклику next().*місце для відповіді"
      ],
      "metadata": {
        "id": "-sHrODc3KFn8"
      }
    },
    {
      "cell_type": "markdown",
      "source": [
        "13. (11б). Створіть клас, що має визначений Iterator Protocol та при кожному виклику next повертає літери англійської абетки, поки вони не вичерпаються."
      ],
      "metadata": {
        "id": "E9qJWmNbK8Gl"
      }
    },
    {
      "cell_type": "code",
      "source": [
        "class AlphabetIterator:\n",
        "    def __init__(self):\n",
        "        self.letters = \"ABCDEFGHIJKLMNOPQRSTUVWXYZ\"\n",
        "        self.index = 0\n",
        "\n",
        "    def __iter__(self):\n",
        "        return self\n",
        "\n",
        "    def __next__(self):\n",
        "        if self.index < len(self.letters):\n",
        "            letter = self.letters[self.index]\n",
        "            self.index += 1\n",
        "            return letter\n",
        "        else:\n",
        "            raise StopIteration\n",
        "\n",
        "alphabet = AlphabetIterator()\n",
        "for letter in alphabet:\n",
        "    print(letter)"
      ],
      "metadata": {
        "id": "cqx-g_RsLo6I",
        "colab": {
          "base_uri": "https://localhost:8080/"
        },
        "outputId": "a907cdb5-953c-41a8-9659-323a0aab084a"
      },
      "execution_count": 18,
      "outputs": [
        {
          "output_type": "stream",
          "name": "stdout",
          "text": [
            "A\n",
            "B\n",
            "C\n",
            "D\n",
            "E\n",
            "F\n",
            "G\n",
            "H\n",
            "I\n",
            "J\n",
            "K\n",
            "L\n",
            "M\n",
            "N\n",
            "O\n",
            "P\n",
            "Q\n",
            "R\n",
            "S\n",
            "T\n",
            "U\n",
            "V\n",
            "W\n",
            "X\n",
            "Y\n",
            "Z\n"
          ]
        }
      ]
    },
    {
      "cell_type": "markdown",
      "source": [
        "# Вітаю! Ви велика(ий) молодець, що впоралась(вся). Похваліть себе та побалуйте чимось приємним. Я Вами пишаюся."
      ],
      "metadata": {
        "id": "Z3E3S_s1Fv7-"
      }
    }
  ]
}